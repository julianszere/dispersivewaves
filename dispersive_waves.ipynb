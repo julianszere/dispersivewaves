{
 "cells": [
  {
   "cell_type": "code",
   "execution_count": 1,
   "metadata": {},
   "outputs": [],
   "source": [
    "from pydub import AudioSegment\n",
    "import numpy as np\n",
    "import soundfile as sf\n",
    "from scipy.fft import fft, ifft, fftfreq"
   ]
  },
  {
   "cell_type": "code",
   "execution_count": 5,
   "metadata": {},
   "outputs": [],
   "source": [
    "def preprocess(input_file):\n",
    "    audio_segment = AudioSegment.from_file(f'{input_file}.mp3', format=\"mp3\")\n",
    "    sample_rate = audio_segment.frame_rate\n",
    "    audio = np.array(audio_segment.get_array_of_samples())\n",
    "    if audio_segment.channels > 1:\n",
    "        audio = audio.reshape((-1, audio_segment.channels))\n",
    "        audio = np.mean(audio, axis=1)\n",
    "    return audio, sample_rate\n",
    "\n",
    "def wave_dispersion(input_file, max_dispersion):\n",
    "    audio, sample_rate = preprocess(input_file)\n",
    "    n = len(audio)\n",
    "    freqs = fftfreq(n, 1 / sample_rate)\n",
    "    spectrum = fft(audio)\n",
    "    delays = max_dispersion * np.abs(freqs / freqs.max())\n",
    "    phase_shifts = np.exp(-1j * 2 * np.pi * freqs * delays)\n",
    "    shifted_spectrum = spectrum * phase_shifts\n",
    "    dispersed_audio = np.real(ifft(shifted_spectrum))\n",
    "    dispersed_audio = dispersed_audio / np.max(np.abs(dispersed_audio))\n",
    "    sf.write(f'{input_file}_dispersed.wav', dispersed_audio, sample_rate)\n",
    "\n",
    "\n",
    "wave_dispersion(\"Gardel_Volver\", max_dispersion=10)\n"
   ]
  }
 ],
 "metadata": {
  "kernelspec": {
   "display_name": "Python 3",
   "language": "python",
   "name": "python3"
  },
  "language_info": {
   "codemirror_mode": {
    "name": "ipython",
    "version": 3
   },
   "file_extension": ".py",
   "mimetype": "text/x-python",
   "name": "python",
   "nbconvert_exporter": "python",
   "pygments_lexer": "ipython3",
   "version": "3.8.10"
  }
 },
 "nbformat": 4,
 "nbformat_minor": 2
}
